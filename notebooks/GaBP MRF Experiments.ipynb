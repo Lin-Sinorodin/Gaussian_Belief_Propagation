{
 "cells": [
  {
   "cell_type": "markdown",
   "source": [
    "# Gaussian Belief Propagation Using Markov Random Fields"
   ],
   "metadata": {
    "collapsed": false
   }
  },
  {
   "cell_type": "code",
   "execution_count": 1,
   "metadata": {
    "collapsed": true
   },
   "outputs": [],
   "source": [
    "%config InlineBackend.figure_format = 'svg'\n",
    "\n",
    "from scipy import linalg\n",
    "import numpy as np\n",
    "import matplotlib.pyplot as plt\n",
    "import networkx as nx\n",
    "from tabulate import tabulate\n",
    "\n",
    "def print_deader(msg, msg_len=65, symbol='#'):\n",
    "    print('\\n' + symbol * msg_len + '\\n' + symbol * msg_len + '\\n')\n",
    "    print(msg.center(msg_len))\n",
    "    print('\\n' + symbol * msg_len + '\\n' + symbol * msg_len + '\\n')\n",
    "\n",
    "def print_step_summery(msg, msg_len=65):\n",
    "    print('\\n' + '_' * msg_len + msg + '‾' * msg_len + '\\n')"
   ]
  },
  {
   "cell_type": "code",
   "execution_count": 2,
   "outputs": [],
   "source": [
    "class GraphGaBP:\n",
    "    def __init__(self):\n",
    "        self.nodes = []   # [0, 1, ...]\n",
    "        self.edges = []   # [(0, 1), ...]\n",
    "\n",
    "        self.nodes_count = 0\n",
    "        self.edges_count = 0\n",
    "\n",
    "        self.nodes_neighbors = {}   #   N(i) = {0: [1, ...]  , 1: [4, ...]  , ...}\n",
    "\n",
    "        # elements of 𝜙ᵢ - ∝ N[μᵢᵢ, σᵢᵢ]\n",
    "        self.p_ii = {}     # Pᵢᵢ = {0: P₀₀, 1: P₁₁, ...}\n",
    "        self.mu_ii = {}    # μᵢᵢ = {0: μ₀₀, 1: μ₁₁, ...}\n",
    "\n",
    "        # elements of mᵢⱼ(xⱼ) ∝ [μᵢⱼ, σᵢⱼ]\n",
    "        self.p_ij = {}     # Pᵢⱼ = {0: {j: P₀ⱼ, ...}, 1: {j: P₁ⱼ, ...}, ...}\n",
    "        self.mu_ij = {}    # μᵢⱼ = {0: {j: μ₀ⱼ, ...}, 1: {j: μ₁ⱼ, ...}, ...}\n",
    "\n",
    "        # initialize a networkx graph object\n",
    "        self.nx_graph = nx.Graph()\n",
    "\n",
    "    def add_node(self):\n",
    "        node_id = self.nodes_count\n",
    "        self.nodes.append(node_id)\n",
    "        self.nx_graph.add_node(node_id)\n",
    "        self.nodes_neighbors[node_id] = []\n",
    "\n",
    "        self.p_ii[node_id] = 0\n",
    "        self.mu_ii[node_id] = 0\n",
    "\n",
    "        self.p_ij[node_id] = {}\n",
    "        self.mu_ij[node_id] = {}\n",
    "\n",
    "        self.nodes_count += 1\n",
    "\n",
    "    def add_edge(self, node1, node2):\n",
    "        self.edges.append((node1, node2))\n",
    "        self.nx_graph.add_edge(node1, node2)\n",
    "\n",
    "        # adding edge between node1 and node 2 makes them neighbors\n",
    "        self.nodes_neighbors[node1].append(node2)\n",
    "        self.nodes_neighbors[node2].append(node1)\n",
    "\n",
    "        # initialize messages mᵢⱼ(xⱼ) ∝ [μᵢⱼ, σᵢⱼ] with Pᵢⱼ = 0\n",
    "        self.p_ij[node1][node2] = 0\n",
    "        self.p_ij[node2][node1] = 0\n",
    "\n",
    "        # initialize messages mᵢⱼ(xⱼ) ∝ [μᵢⱼ, σᵢⱼ] with μᵢⱼ = 0\n",
    "        self.mu_ij[node1][node2] = 0\n",
    "        self.mu_ij[node2][node1] = 0\n",
    "\n",
    "        self.edges_count += 1\n",
    "\n",
    "    def show_graph(self):\n",
    "        \"\"\"Display a plot to visualize the graph\"\"\"\n",
    "        nx.draw(self.nx_graph, with_labels=True, node_size=500,node_color='pink',alpha=0.9)\n",
    "        plt.show()\n",
    "\n",
    "    def print_graph_state(self, raw_data=True):\n",
    "        \"\"\"Prints detailed information about the parameters of this class\n",
    "\n",
    "        Parameters\n",
    "        ----------\n",
    "        raw_data: bool\n",
    "            if True, show the data in it's raw format as it appear in the class (useful in order\n",
    "            to see how each parameter represented in this class).\n",
    "            if False, show the data in a table (useful for actual analysis on the algorithm).\n",
    "\n",
    "        \"\"\"\n",
    "        if raw_data:\n",
    "            print(f'Nodes: {self.nodes}')\n",
    "            print(f'Edges: {self.edges}')\n",
    "            print(f'Nodes neighbors: {self.nodes_neighbors}')\n",
    "            print(f'p_ii:  {self.p_ii}')\n",
    "            print(f'μ_ii:  {self.mu_ii}')\n",
    "            print(f'p_ij:  {self.p_ij}')\n",
    "            print(f'μ_ij:  {self.mu_ij}')\n",
    "        else:\n",
    "            graph_state = []\n",
    "            graph_state_columns = ['Node i',\n",
    "                                   'Neighbors N(i)',\n",
    "                                   'Pᵢᵢ',\n",
    "                                   'μᵢᵢ',\n",
    "                                   'Pᵢⱼ',\n",
    "                                   'μᵢⱼ']\n",
    "            for node in self.nodes:\n",
    "                graph_state.append([node,\n",
    "                                    self.nodes_neighbors[node],\n",
    "                                    self.p_ii[node],\n",
    "                                    self.mu_ii[node],\n",
    "                                    self.p_ij[node],\n",
    "                                    self.mu_ij[node]])\n",
    "\n",
    "            print(tabulate(graph_state, headers=graph_state_columns, numalign='center', stralign='center'))"
   ],
   "metadata": {
    "collapsed": false,
    "pycharm": {
     "name": "#%%\n"
    }
   }
  },
  {
   "cell_type": "markdown",
   "source": [
    "- Elements with $\\textbf{A}_{ij} \\neq 0$ represent an edge in the graph.\n",
    "- Using $\\textbf{A}$, initialize a graph."
   ],
   "metadata": {
    "collapsed": false
   }
  },
  {
   "cell_type": "markdown",
   "source": [
    "## Graph Input\n",
    "\n",
    "- $\\textbf{A}$ - a data matrix\n",
    "- $\\textbf{b}$ - observation vector"
   ],
   "metadata": {
    "collapsed": false
   }
  },
  {
   "cell_type": "code",
   "execution_count": 3,
   "outputs": [
    {
     "name": "stdout",
     "output_type": "stream",
     "text": [
      "A:\n",
      "[[0.19413462 0.13871852 0.         0.        ]\n",
      " [0.0012556  0.04850503 0.11419964 0.2397744 ]\n",
      " [0.         0.16851675 0.05163666 0.        ]\n",
      " [0.         0.00078412 0.         0.04247466]]\n",
      "\n",
      "b:\n",
      "[[0.03526224]\n",
      " [0.5673085 ]\n",
      " [0.26971128]\n",
      " [0.12771798]]\n"
     ]
    }
   ],
   "source": [
    "# define number of nodes for the graph\n",
    "graph_dim = 4\n",
    "\n",
    "# Get A\n",
    "A = np.random.randn(graph_dim, graph_dim)\n",
    "A = np.abs(A)\n",
    "A_mask = [[1, 1, 0, 0], [1, 1, 1, 1], [0, 1, 1, 0], [0, 1, 0, 1]]\n",
    "A = A_mask * A\n",
    "A = A / np.sum(A)\n",
    "print('A:')\n",
    "print(A)\n",
    "\n",
    "# get b\n",
    "b = np.random.randn(4, 1)\n",
    "b = np.abs(b)\n",
    "b = b / np.sum(b)\n",
    "print('\\nb:')\n",
    "print(b)"
   ],
   "metadata": {
    "collapsed": false,
    "pycharm": {
     "name": "#%%\n"
    }
   }
  },
  {
   "cell_type": "markdown",
   "source": [
    "## Build the Graph and Display it\n",
    "\n",
    "### Initialize the Free Parameters\n",
    "\n",
    "- Define: $P_{ii}^{-1} \\equiv \\sigma _{ii}$\n",
    "- Define $N\\left ( i \\right ) = \\left \\{ k | k\\neq i, A_{ki} \\neq 0 \\right \\}$\n",
    "- Initialize $P_{ii}^{t=0}=A_{ii}$ and $\\mu_{ii}^{t=0}=\\frac{b_i}{A_{ii}}$ to get the initialized node potential:\n",
    "$ \\phi_i^{t=0}\\left ( x_i \\right )\\propto {N}\\left ( \\mu_{ii}=\\frac{b_i}{A_{ii}}, P_{ii}^{-1}=A_{ii}^{-1} \\right )  $\n",
    "- Initialize $P_{ki}^{t=0}=0$ and $\\mu_{ki}^{t=0}=0$ to get the initialized messages: $m_{ij}^{t=0}\\left ( x_{j} \\right ) \\propto N\\left ( \\mu_{ij}, P_{ij}^{-1} \\right )$"
   ],
   "metadata": {
    "collapsed": false
   }
  },
  {
   "cell_type": "code",
   "execution_count": 4,
   "outputs": [],
   "source": [
    "def construct_graph(A: np.ndarray, b: np.ndarray):\n",
    "    \"\"\"\n",
    "    Initialize a graph object given data matrix A and the observation vector b\n",
    "    \"\"\"\n",
    "    # initialize a graph object\n",
    "    graph = GraphGaBP()\n",
    "\n",
    "    # the data matrix A defines the number of nodes\n",
    "    number_of_nodes = A.shape[0]\n",
    "\n",
    "    # Define a graph with 4 nodes\n",
    "    for i in range(number_of_nodes):\n",
    "        graph.add_node()\n",
    "\n",
    "    # add nodes where A_ij != 0\n",
    "    for i in range(number_of_nodes):\n",
    "        for j in range(number_of_nodes):\n",
    "            if (i > j) & (A[i][j] > 0):\n",
    "                graph.add_edge(i, j)\n",
    "\n",
    "    # Initialize node potentials - 𝜙ᵢ ∝ N[μᵢᵢ, σᵢᵢ] (note that σᵢᵢ = Pᵢᵢ⁻¹)\n",
    "    for i in range(number_of_nodes):\n",
    "        graph.p_ii[i] = A[i][i]               # Pᵢᵢ = Aᵢᵢ\n",
    "        graph.mu_ii[i] = b[i][0] / A[i][i]    # μᵢᵢ = bᵢ / Aᵢᵢ\n",
    "\n",
    "    return graph"
   ],
   "metadata": {
    "collapsed": false,
    "pycharm": {
     "name": "#%%\n"
    }
   }
  },
  {
   "cell_type": "code",
   "execution_count": 5,
   "outputs": [
    {
     "data": {
      "text/plain": "<Figure size 432x288 with 1 Axes>",
      "image/svg+xml": "<?xml version=\"1.0\" encoding=\"utf-8\" standalone=\"no\"?>\n<!DOCTYPE svg PUBLIC \"-//W3C//DTD SVG 1.1//EN\"\n  \"http://www.w3.org/Graphics/SVG/1.1/DTD/svg11.dtd\">\n<svg height=\"302.4pt\" version=\"1.1\" viewBox=\"0 0 446.4 302.4\" width=\"446.4pt\" xmlns=\"http://www.w3.org/2000/svg\" xmlns:xlink=\"http://www.w3.org/1999/xlink\">\n <metadata>\n  <rdf:RDF xmlns:cc=\"http://creativecommons.org/ns#\" xmlns:dc=\"http://purl.org/dc/elements/1.1/\" xmlns:rdf=\"http://www.w3.org/1999/02/22-rdf-syntax-ns#\">\n   <cc:Work>\n    <dc:type rdf:resource=\"http://purl.org/dc/dcmitype/StillImage\"/>\n    <dc:date>2021-10-12T22:00:55.344050</dc:date>\n    <dc:format>image/svg+xml</dc:format>\n    <dc:creator>\n     <cc:Agent>\n      <dc:title>Matplotlib v3.4.3, https://matplotlib.org/</dc:title>\n     </cc:Agent>\n    </dc:creator>\n   </cc:Work>\n  </rdf:RDF>\n </metadata>\n <defs>\n  <style type=\"text/css\">*{stroke-linecap:butt;stroke-linejoin:round;}</style>\n </defs>\n <g id=\"figure_1\">\n  <g id=\"patch_1\">\n   <path d=\"M 0 302.4 \nL 446.4 302.4 \nL 446.4 0 \nL 0 0 \nz\n\" style=\"fill:#ffffff;\"/>\n  </g>\n  <g id=\"axes_1\">\n   <g id=\"LineCollection_1\">\n    <path clip-path=\"url(#pa5ebd3e27f)\" d=\"M 401.712397 270.208264 \nL 226.096285 188.819317 \n\" style=\"fill:none;stroke:#000000;stroke-opacity:0.9;\"/>\n    <path clip-path=\"url(#pa5ebd3e27f)\" d=\"M 226.096285 188.819317 \nL 44.687603 263.454892 \n\" style=\"fill:none;stroke:#000000;stroke-opacity:0.9;\"/>\n    <path clip-path=\"url(#pa5ebd3e27f)\" d=\"M 226.096285 188.819317 \nL 230.58635 32.191736 \n\" style=\"fill:none;stroke:#000000;stroke-opacity:0.9;\"/>\n   </g>\n   <g id=\"PathCollection_1\">\n    <defs>\n     <path d=\"M 0 11.18034 \nC 2.965061 11.18034 5.80908 10.002309 7.905694 7.905694 \nC 10.002309 5.80908 11.18034 2.965061 11.18034 0 \nC 11.18034 -2.965061 10.002309 -5.80908 7.905694 -7.905694 \nC 5.80908 -10.002309 2.965061 -11.18034 0 -11.18034 \nC -2.965061 -11.18034 -5.80908 -10.002309 -7.905694 -7.905694 \nC -10.002309 -5.80908 -11.18034 -2.965061 -11.18034 0 \nC -11.18034 2.965061 -10.002309 5.80908 -7.905694 7.905694 \nC -5.80908 10.002309 -2.965061 11.18034 0 11.18034 \nz\n\" id=\"m0541e5d3ad\" style=\"stroke:#ffc0cb;stroke-opacity:0.9;\"/>\n    </defs>\n    <g clip-path=\"url(#pa5ebd3e27f)\">\n     <use style=\"fill:#ffc0cb;fill-opacity:0.9;stroke:#ffc0cb;stroke-opacity:0.9;\" x=\"401.712397\" xlink:href=\"#m0541e5d3ad\" y=\"270.208264\"/>\n     <use style=\"fill:#ffc0cb;fill-opacity:0.9;stroke:#ffc0cb;stroke-opacity:0.9;\" x=\"226.096285\" xlink:href=\"#m0541e5d3ad\" y=\"188.819317\"/>\n     <use style=\"fill:#ffc0cb;fill-opacity:0.9;stroke:#ffc0cb;stroke-opacity:0.9;\" x=\"44.687603\" xlink:href=\"#m0541e5d3ad\" y=\"263.454892\"/>\n     <use style=\"fill:#ffc0cb;fill-opacity:0.9;stroke:#ffc0cb;stroke-opacity:0.9;\" x=\"230.58635\" xlink:href=\"#m0541e5d3ad\" y=\"32.191736\"/>\n    </g>\n   </g>\n   <g id=\"text_1\">\n    <g clip-path=\"url(#pa5ebd3e27f)\">\n     <!-- 0 -->\n     <g style=\"opacity:0.9;\" transform=\"translate(397.894897 273.519514)scale(0.12 -0.12)\">\n      <defs>\n       <path d=\"M 2034 4250 \nQ 1547 4250 1301 3770 \nQ 1056 3291 1056 2328 \nQ 1056 1369 1301 889 \nQ 1547 409 2034 409 \nQ 2525 409 2770 889 \nQ 3016 1369 3016 2328 \nQ 3016 3291 2770 3770 \nQ 2525 4250 2034 4250 \nz\nM 2034 4750 \nQ 2819 4750 3233 4129 \nQ 3647 3509 3647 2328 \nQ 3647 1150 3233 529 \nQ 2819 -91 2034 -91 \nQ 1250 -91 836 529 \nQ 422 1150 422 2328 \nQ 422 3509 836 4129 \nQ 1250 4750 2034 4750 \nz\n\" id=\"DejaVuSans-30\" transform=\"scale(0.015625)\"/>\n      </defs>\n      <use xlink:href=\"#DejaVuSans-30\"/>\n     </g>\n    </g>\n   </g>\n   <g id=\"text_2\">\n    <g clip-path=\"url(#pa5ebd3e27f)\">\n     <!-- 1 -->\n     <g style=\"opacity:0.9;\" transform=\"translate(222.278785 192.130567)scale(0.12 -0.12)\">\n      <defs>\n       <path d=\"M 794 531 \nL 1825 531 \nL 1825 4091 \nL 703 3866 \nL 703 4441 \nL 1819 4666 \nL 2450 4666 \nL 2450 531 \nL 3481 531 \nL 3481 0 \nL 794 0 \nL 794 531 \nz\n\" id=\"DejaVuSans-31\" transform=\"scale(0.015625)\"/>\n      </defs>\n      <use xlink:href=\"#DejaVuSans-31\"/>\n     </g>\n    </g>\n   </g>\n   <g id=\"text_3\">\n    <g clip-path=\"url(#pa5ebd3e27f)\">\n     <!-- 2 -->\n     <g style=\"opacity:0.9;\" transform=\"translate(40.870103 266.766142)scale(0.12 -0.12)\">\n      <defs>\n       <path d=\"M 1228 531 \nL 3431 531 \nL 3431 0 \nL 469 0 \nL 469 531 \nQ 828 903 1448 1529 \nQ 2069 2156 2228 2338 \nQ 2531 2678 2651 2914 \nQ 2772 3150 2772 3378 \nQ 2772 3750 2511 3984 \nQ 2250 4219 1831 4219 \nQ 1534 4219 1204 4116 \nQ 875 4013 500 3803 \nL 500 4441 \nQ 881 4594 1212 4672 \nQ 1544 4750 1819 4750 \nQ 2544 4750 2975 4387 \nQ 3406 4025 3406 3419 \nQ 3406 3131 3298 2873 \nQ 3191 2616 2906 2266 \nQ 2828 2175 2409 1742 \nQ 1991 1309 1228 531 \nz\n\" id=\"DejaVuSans-32\" transform=\"scale(0.015625)\"/>\n      </defs>\n      <use xlink:href=\"#DejaVuSans-32\"/>\n     </g>\n    </g>\n   </g>\n   <g id=\"text_4\">\n    <g clip-path=\"url(#pa5ebd3e27f)\">\n     <!-- 3 -->\n     <g style=\"opacity:0.9;\" transform=\"translate(226.76885 35.502986)scale(0.12 -0.12)\">\n      <defs>\n       <path d=\"M 2597 2516 \nQ 3050 2419 3304 2112 \nQ 3559 1806 3559 1356 \nQ 3559 666 3084 287 \nQ 2609 -91 1734 -91 \nQ 1441 -91 1130 -33 \nQ 819 25 488 141 \nL 488 750 \nQ 750 597 1062 519 \nQ 1375 441 1716 441 \nQ 2309 441 2620 675 \nQ 2931 909 2931 1356 \nQ 2931 1769 2642 2001 \nQ 2353 2234 1838 2234 \nL 1294 2234 \nL 1294 2753 \nL 1863 2753 \nQ 2328 2753 2575 2939 \nQ 2822 3125 2822 3475 \nQ 2822 3834 2567 4026 \nQ 2313 4219 1838 4219 \nQ 1578 4219 1281 4162 \nQ 984 4106 628 3988 \nL 628 4550 \nQ 988 4650 1302 4700 \nQ 1616 4750 1894 4750 \nQ 2613 4750 3031 4423 \nQ 3450 4097 3450 3541 \nQ 3450 3153 3228 2886 \nQ 3006 2619 2597 2516 \nz\n\" id=\"DejaVuSans-33\" transform=\"scale(0.015625)\"/>\n      </defs>\n      <use xlink:href=\"#DejaVuSans-33\"/>\n     </g>\n    </g>\n   </g>\n  </g>\n </g>\n <defs>\n  <clipPath id=\"pa5ebd3e27f\">\n   <rect height=\"288\" width=\"432\" x=\"7.2\" y=\"7.2\"/>\n  </clipPath>\n </defs>\n</svg>\n"
     },
     "metadata": {},
     "output_type": "display_data"
    }
   ],
   "source": [
    "graph = construct_graph(A, b)\n",
    "graph.show_graph()"
   ],
   "metadata": {
    "collapsed": false,
    "pycharm": {
     "name": "#%%\n"
    }
   }
  },
  {
   "cell_type": "markdown",
   "source": [
    "## Display Raw Data of the Graph State"
   ],
   "metadata": {
    "collapsed": false
   }
  },
  {
   "cell_type": "code",
   "execution_count": 6,
   "outputs": [
    {
     "name": "stdout",
     "output_type": "stream",
     "text": [
      "Nodes: [0, 1, 2, 3]\n",
      "Edges: [(1, 0), (2, 1), (3, 1)]\n",
      "Nodes neighbors: {0: [1], 1: [0, 2, 3], 2: [1], 3: [1]}\n",
      "p_ii:  {0: 0.19413461850487582, 1: 0.04850502899607877, 2: 0.05163665940575841, 3: 0.04247465965252306}\n",
      "μ_ii:  {0: 0.18163806511357639, 1: 11.695869736182873, 2: 5.223251903925796, 3: 3.0069218759289056}\n",
      "p_ij:  {0: {1: 0}, 1: {0: 0, 2: 0, 3: 0}, 2: {1: 0}, 3: {1: 0}}\n",
      "μ_ij:  {0: {1: 0}, 1: {0: 0, 2: 0, 3: 0}, 2: {1: 0}, 3: {1: 0}}\n"
     ]
    }
   ],
   "source": [
    "graph.print_graph_state()"
   ],
   "metadata": {
    "collapsed": false,
    "pycharm": {
     "name": "#%%\n"
    }
   }
  },
  {
   "cell_type": "markdown",
   "source": [
    "## Display the Graph State in a Table"
   ],
   "metadata": {
    "collapsed": false
   }
  },
  {
   "cell_type": "code",
   "execution_count": 7,
   "outputs": [
    {
     "name": "stdout",
     "output_type": "stream",
     "text": [
      " Node i    Neighbors N(i)      Pᵢᵢ       μᵢᵢ            Pᵢⱼ                 μᵢⱼ\n",
      "--------  ----------------  ---------  --------  ------------------  ------------------\n",
      "   0            [1]         0.194135   0.181638        {1: 0}              {1: 0}\n",
      "   1         [0, 2, 3]      0.048505   11.6959   {0: 0, 2: 0, 3: 0}  {0: 0, 2: 0, 3: 0}\n",
      "   2            [1]         0.0516367  5.22325         {1: 0}              {1: 0}\n",
      "   3            [1]         0.0424747  3.00692         {1: 0}              {1: 0}\n"
     ]
    }
   ],
   "source": [
    "graph.print_graph_state(raw_data=False)"
   ],
   "metadata": {
    "collapsed": false,
    "pycharm": {
     "name": "#%%\n"
    }
   }
  },
  {
   "cell_type": "markdown",
   "source": [
    "## Run GaBP Algorithm\n",
    "\n",
    "In order to propagate the messages through the graph, two scalars $P_{ij}$ and $\\mu _{ij}$ can be used to update the message.\n",
    "\n",
    "The message is than given by: $m_{ij}\\left ( x_{j} \\right ) \\propto N\\left ( \\mu_{ij}, P_{ij}^{-1} \\right )$\n",
    "1. Find $P_{ij}$:\n",
    "    1. $P_{i\\setminus j} = P_{ii} + \\sum _ {k \\in N\\left ( i \\right )\\setminus j} P_{ki}$\n",
    "    1. $P_{ij} = -A_{ij}^2 P_{i\\setminus j}^{-1}$\n",
    "1. Find $\\mu _{ij}$:\n",
    "    1. $\\mu_{i\\setminus j} = P_{i\\setminus j}^{-1} \\left ( P_{ii} \\mu_{ii} + \\sum _ {k \\in N\\left ( i \\right )\\setminus j} P_{ki} \\mu_{ki} \\right ) $\n",
    "    1. $\\mu _{ij}=-P_{ij}^{-1} A_{ij} \\mu_{i\\setminus j}$"
   ],
   "metadata": {
    "collapsed": false,
    "pycharm": {
     "name": "#%% md\n"
    }
   }
  },
  {
   "cell_type": "markdown",
   "source": [
    "### Helper functions for the GaBP iteration function"
   ],
   "metadata": {
    "collapsed": false,
    "pycharm": {
     "name": "#%% md\n"
    }
   }
  },
  {
   "cell_type": "code",
   "execution_count": 8,
   "outputs": [],
   "source": [
    "def get_graph_state(g, print_state=False):\n",
    "    \"\"\"return the graph's Pᵢⱼ and μᵢⱼ at the time calling the function\n",
    "\n",
    "     Parameters\n",
    "     ----------\n",
    "     g: GraphGaBP\n",
    "        A GaBP graph object at a given time\n",
    "    print_state: bool\n",
    "        choose if to print the current state of the graph\n",
    "\n",
    "    Returns\n",
    "    -------\n",
    "    graph_state: list\n",
    "        the state of the graph in the format of: [[node: int, [Pᵢⱼ list]: list, [μᵢⱼ list]: list],\n",
    "                                                  [node: int, [Pᵢⱼ list]: list, [μᵢⱼ list]: list], ...]\n",
    "    \"\"\"\n",
    "    graph_state = []\n",
    "    for node in g.nodes:\n",
    "        graph_state.append([node,\n",
    "                            list(g.p_ij[node].values()),\n",
    "                            list(g.mu_ij[node].values())])\n",
    "    if print_state:\n",
    "        print(tabulate(graph_state, headers=['Node', 'Pᵢⱼ', 'μᵢⱼ']))\n",
    "    return graph_state\n",
    "\n",
    "def l2(a, b):\n",
    "    \"\"\"find l2 distance between two vectors\"\"\"\n",
    "    a = np.array(a)\n",
    "    b = np.array(b)\n",
    "    return np.power(np.sum(np.power(a - b, 2)), 1/2)\n",
    "\n",
    "def calc_iteration_l2(before_state, after_state):\n",
    "    # calc the l2 distance between Pᵢⱼ and μᵢⱼ at each node\n",
    "    nodes_p_l2 = []\n",
    "    nodes_mu_l2 = []\n",
    "    for before, after in zip(before_state, after_state):\n",
    "        p_before = before[1]\n",
    "        mu_before = before[2]\n",
    "        p_after = after[1]\n",
    "        mu_after = after[2]\n",
    "\n",
    "        p_l2 = l2(p_before, p_after)\n",
    "        mu_l2 = l2(mu_before, mu_after)\n",
    "\n",
    "        nodes_p_l2.append(p_l2)\n",
    "        nodes_mu_l2.append(mu_l2)\n",
    "    total_distance = np.sum(nodes_p_l2) + np.sum(nodes_mu_l2)\n",
    "    return nodes_p_l2, nodes_mu_l2, total_distance"
   ],
   "metadata": {
    "collapsed": false,
    "pycharm": {
     "name": "#%%\n"
    }
   }
  },
  {
   "cell_type": "markdown",
   "source": [
    "### One iteration of the GaBP algorithm\n",
    "\n",
    "- The function `run_GaBP_iteration` accepts a boolean variable `show_intermediate_result`.\n",
    "  Setting it to `True` prints the graph state as the GaBP algorithm travels through the nodes in the graph\n",
    "  and can be useful for debugging and further analysis."
   ],
   "metadata": {
    "collapsed": false,
    "pycharm": {
     "name": "#%% md\n"
    }
   }
  },
  {
   "cell_type": "code",
   "execution_count": 9,
   "outputs": [],
   "source": [
    "def run_GaBP_iteration(graph, A, show_intermediate_result = False):\n",
    "    \"\"\"Run the GaBP algorithm on a given graph for one iteration\n",
    "\n",
    "    Parameters\n",
    "    ----------\n",
    "    graph: GraphGaBP\n",
    "        A GaBP graph object at a given time\n",
    "    A: np.ndarray\n",
    "        The data matrix\n",
    "    show_intermediate_result: bool\n",
    "        choose if to print the state of the graph during it's running\n",
    "\n",
    "    Returns\n",
    "    -------\n",
    "    graph: GraphGaBP\n",
    "        A GaBP graph object after running the GaBP algorithm on it\n",
    "    before_state: list\n",
    "        Pᵢⱼ and μᵢⱼ of the graph before the GaBP iteration\n",
    "    after_state: list\n",
    "        Pᵢⱼ and μᵢⱼ of the graph after the GaBP iteration\n",
    "    \"\"\"\n",
    "    # get the Pᵢⱼ and μᵢⱼ of the graph before the GaBP iteration\n",
    "    # print('Before graph state:')\n",
    "    before_state = get_graph_state(graph, print_state=False)\n",
    "\n",
    "    # run the GaBP algorithm for one iteration\n",
    "    for i in graph.nodes:\n",
    "        p_ii = graph.p_ii[i]\n",
    "        mu_ii = graph.mu_ii[i]\n",
    "        p_ij = graph.p_ij[i]\n",
    "        mu_ij = graph.mu_ij[i]\n",
    "        N_i = graph.nodes_neighbors[i]\n",
    "        if show_intermediate_result:\n",
    "            print(f'\\nCurrent Node: i={i}')\n",
    "            print(f'   N(i) = {N_i}')\n",
    "            print(f'   Pᵢᵢ = {np.round(p_ii, 4)}')\n",
    "            print(f'   μᵢᵢ = {np.round(mu_ii, 4)}')\n",
    "            print(f'   Pᵢⱼ = {p_ij}')\n",
    "            print(f'   μᵢⱼ = {mu_ij}')\n",
    "        for j in N_i:\n",
    "            # n(i)\\j\n",
    "            N_ij = [k for k in N_i if k != j]\n",
    "\n",
    "            ###################################################################\n",
    "            #                          Get Updated Pᵢⱼ\n",
    "            ###################################################################\n",
    "\n",
    "            # initialize P_i\\j = p_ii\n",
    "            p_N_ij = p_ii\n",
    "\n",
    "            # P_i\\j = p_ii + ∑_{k ∈ n(i)\\j} Pₖᵢ\n",
    "            for k in N_ij:\n",
    "                p_ki = graph.p_ij[k][i]\n",
    "                p_N_ij += p_ki\n",
    "\n",
    "            # Pᵢⱼ = -Aᵢⱼ^2 * P_i\\j^(-1)\n",
    "            p_ij = -1 * A[i][j] * A[j][i] / p_N_ij\n",
    "\n",
    "            # update new values to the class\n",
    "            graph.p_ij[i][j] = p_ij\n",
    "\n",
    "            ###################################################################\n",
    "            #                          Get Updated μᵢⱼ\n",
    "            ###################################################################\n",
    "\n",
    "            # initialize μ_i\\j = 0\n",
    "            mu_N_ij = 0\n",
    "\n",
    "            # ∑_{k ∈ n(i)\\j} Pₖᵢμₖᵢ\n",
    "            p_mu_N_ij = 0\n",
    "            for k in N_ij:\n",
    "                p_ki = graph.p_ij[k][i]\n",
    "                mu_ki = graph.mu_ij[k][i]\n",
    "                p_mu_N_ij += p_ki * mu_ki\n",
    "\n",
    "            # μ_i\\j = P_i\\j ^ (-1)  * (p_ii*μ_ii + ∑_{k ∈ n(i)\\j} Pₖᵢμₖᵢ)\n",
    "            mu_N_ij = (1 / p_N_ij) * (p_ii*mu_ii + p_mu_N_ij)\n",
    "\n",
    "            # μᵢⱼ = -Pᵢⱼ^(-1)*Aᵢⱼ*μ_i\\j\n",
    "            mu_ij = -1/p_ij * A[j][i] * mu_N_ij\n",
    "\n",
    "            # update new values to the class\n",
    "            graph.mu_ij[i][j] = mu_ij\n",
    "\n",
    "\n",
    "            if show_intermediate_result:\n",
    "                print(f'      Current j: {j}')\n",
    "                print(f'         N(i)\\j: {N_ij}')\n",
    "                print(f'         P_i\\j: {np.round(p_N_ij, 4)}')\n",
    "                print(f'         μ_i\\j: {np.round(mu_N_ij, 4)}')\n",
    "                print('')\n",
    "\n",
    "    # get the Pᵢⱼ and μᵢⱼ of the graph before the GaBP iteration\n",
    "    # print('\\nAfter graph state:')\n",
    "    after_state = get_graph_state(graph, print_state=False)\n",
    "\n",
    "    return graph, before_state, after_state"
   ],
   "metadata": {
    "collapsed": false,
    "pycharm": {
     "name": "#%%\n"
    }
   }
  },
  {
   "cell_type": "markdown",
   "source": [
    "### Run the GaBP for certain amount of iterations"
   ],
   "metadata": {
    "collapsed": false,
    "pycharm": {
     "name": "#%% md\n"
    }
   }
  },
  {
   "cell_type": "code",
   "execution_count": 10,
   "outputs": [
    {
     "name": "stdout",
     "output_type": "stream",
     "text": [
      "_______________________________Note______________________________\n",
      "If you want to see the intermediate results, set the variable in\n",
      "the code above to True\n",
      "‾‾‾‾‾‾‾‾‾‾‾‾‾‾‾‾‾‾‾‾‾‾‾‾‾‾‾‾‾‾‾‾‾‾‾‾‾‾‾‾‾‾‾‾‾‾‾‾‾‾‾‾‾‾‾‾‾‾‾‾‾‾‾‾‾\n",
      "\n",
      "\n",
      "#################################################################\n",
      "#################################################################\n",
      "\n",
      "            Run Gaussian Belief Propagation Algorithm            \n",
      "\n",
      "#################################################################\n",
      "#################################################################\n",
      "\n",
      "Nodes Pᵢⱼ L2 distance:\n",
      "                    [0.001 0.404 0.373 0.004]                    \n",
      "Nodes μᵢⱼ L2 distance:\n",
      "        [2.54000e-01 4.51858e+02 1.60100e+00 1.62880e+02]        \n",
      "\n",
      "_________________________________________________________________\n",
      "=> Finished Iteration: 0\n",
      "   Total L2 distance: 617.3746532752185\n",
      "‾‾‾‾‾‾‾‾‾‾‾‾‾‾‾‾‾‾‾‾‾‾‾‾‾‾‾‾‾‾‾‾‾‾‾‾‾‾‾‾‾‾‾‾‾‾‾‾‾‾‾‾‾‾‾‾‾‾‾‾‾‾‾‾‾\n",
      "\n",
      "Nodes Pᵢⱼ L2 distance:\n",
      "                    [0.    0.042 0.    0.   ]                    \n",
      "Nodes μᵢⱼ L2 distance:\n",
      "              [   0.    1049.306    0.       0.   ]              \n",
      "\n",
      "_________________________________________________________________\n",
      "=> Finished Iteration: 1\n",
      "   Total L2 distance: 1049.3479459965058\n",
      "‾‾‾‾‾‾‾‾‾‾‾‾‾‾‾‾‾‾‾‾‾‾‾‾‾‾‾‾‾‾‾‾‾‾‾‾‾‾‾‾‾‾‾‾‾‾‾‾‾‾‾‾‾‾‾‾‾‾‾‾‾‾‾‾‾\n",
      "\n",
      "Nodes Pᵢⱼ L2 distance:\n",
      "                          [0. 0. 0. 0.]                          \n",
      "Nodes μᵢⱼ L2 distance:\n",
      "                          [0. 0. 0. 0.]                          \n",
      "\n",
      "_________________________________________________________________\n",
      "=> Converged on iteration 2\n",
      "‾‾‾‾‾‾‾‾‾‾‾‾‾‾‾‾‾‾‾‾‾‾‾‾‾‾‾‾‾‾‾‾‾‾‾‾‾‾‾‾‾‾‾‾‾‾‾‾‾‾‾‾‾‾‾‾‾‾‾‾‾‾‾‾‾\n",
      "\n"
     ]
    }
   ],
   "source": [
    "show_intermediate_result = False\n",
    "if not show_intermediate_result:\n",
    "    print(\"Note\".center(65, \"_\"))\n",
    "    print('If you want to see the intermediate results, set the variable in\\nthe code above to True')\n",
    "    print('‾'*65 + '\\n')\n",
    "\n",
    "\n",
    "print_deader('Run Gaussian Belief Propagation Algorithm')\n",
    "\n",
    "# run GaBP until convergence/maximum iterations\n",
    "max_iterations = 50\n",
    "iteration_distance = []\n",
    "for iteration in range(max_iterations):\n",
    "    graph, before_state, after_state = run_GaBP_iteration(graph, A, show_intermediate_result)\n",
    "    nodes_p_l2, nodes_mu_l2, total_distance = calc_iteration_l2(before_state, after_state)\n",
    "\n",
    "    iteration_distance.append(total_distance)\n",
    "\n",
    "    print('Nodes Pᵢⱼ L2 distance:\\n' + f'{np.round(nodes_p_l2, 3)}'.center(65))\n",
    "    print('Nodes μᵢⱼ L2 distance:\\n' + f'{np.round(nodes_mu_l2, 3)}'.center(65))\n",
    "    # print(f'Nodes μᵢⱼ L2 distance: {np.round(nodes_mu_l2, 3)}')\n",
    "\n",
    "    # early stopping\n",
    "    convergence_threshold = 1e-5\n",
    "    if total_distance < convergence_threshold:\n",
    "        print_step_summery(f'=> Converged on iteration {iteration}')\n",
    "        break\n",
    "    else:\n",
    "        print_step_summery(f'=> Finished Iteration: {iteration}\\n   Total L2 distance: {total_distance}')\n"
   ],
   "metadata": {
    "collapsed": false,
    "pycharm": {
     "name": "#%%\n"
    }
   }
  },
  {
   "cell_type": "markdown",
   "source": [
    "## Infer and Compare with Analytic Result"
   ],
   "metadata": {
    "collapsed": false
   }
  },
  {
   "cell_type": "markdown",
   "source": [
    "### Exact solution\n",
    "\n",
    "- The analytic result for the marginal densities should be a Gaussian (eq. 2.3, p. 9):\n",
    "$p\\left ( x_i \\right )\\sim N\\left ( \\mu_i=\\left \\{ \\mathbf{A}^{-1}\\textbf{b} \\right \\}_i,P_i^{-1}=\\left \\{ \\mathbf{A}^{-1} \\right \\}_{ii} \\right )$\n"
   ],
   "metadata": {
    "collapsed": false,
    "pycharm": {
     "name": "#%% md\n"
    }
   }
  },
  {
   "cell_type": "code",
   "execution_count": 11,
   "outputs": [
    {
     "name": "stdout",
     "output_type": "stream",
     "text": [
      "Exact μ:\n",
      "[[-1.44560708]\n",
      " [ 2.27730667]\n",
      " [-2.20876091]\n",
      " [ 2.96488058]]\n",
      "Exact σ\n",
      "[[-1.44560708]\n",
      " [ 2.27730667]\n",
      " [-2.20876091]\n",
      " [ 2.96488058]]\n"
     ]
    }
   ],
   "source": [
    "def calc_exact_distribution(A, b):\n",
    "    mu = linalg.inv(A) @ b\n",
    "    sigma = linalg.inv(A)\n",
    "    return mu, sigma\n",
    "\n",
    "exact_mu, exact_sigma = calc_exact_distribution(A, b)\n",
    "print('Exact μ:')\n",
    "print(exact_mu)\n",
    "\n",
    "print('Exact σ')\n",
    "print(exact_mu)"
   ],
   "metadata": {
    "collapsed": false,
    "pycharm": {
     "name": "#%%\n"
    }
   }
  },
  {
   "cell_type": "markdown",
   "source": [
    "### GaBP Solution\n",
    "\n",
    "- The probabilistic solution from the GaBP given by:\n",
    "    - Marginal precisions - $P_i^{\\text{GaBP}} = P_{ii}+  \\sum_{k \\in N\\left ( i \\right )} P_{ki} $\n",
    "    - Marginal means -  $\\mu_i^{\\text{GaBP}} = \\frac{P_{ii}\\mu_{ii}+  \\sum_{k \\in N\\left ( i \\right )} P_{ki}\\mu_{ki}}{P_i}$"
   ],
   "metadata": {
    "collapsed": false,
    "pycharm": {
     "name": "#%% md\n"
    }
   }
  },
  {
   "cell_type": "code",
   "source": [
    "def calc_node_marginal(graph, i):\n",
    "    N_i = graph.nodes_neighbors[i]\n",
    "    p_ii = graph.p_ii[i]\n",
    "    mu_ii = graph.mu_ii[i]\n",
    "\n",
    "    # Pᵢ\n",
    "    marginal_precision = (p_ii + np.sum([graph.p_ij[k][i] for k in N_i]))\n",
    "\n",
    "    # μᵢ\n",
    "    marginal_mean = np.sum([graph.p_ij[k][i] * graph.mu_ij[k][i] for k in N_i]) +  p_ii*mu_ii\n",
    "    marginal_mean = marginal_mean / marginal_precision\n",
    "\n",
    "    return marginal_mean, marginal_precision"
   ],
   "metadata": {
    "collapsed": false,
    "pycharm": {
     "name": "#%%\n"
    }
   },
   "execution_count": 12,
   "outputs": []
  },
  {
   "cell_type": "markdown",
   "source": [
    "### Compare GaBP with exact solution\n",
    "\n",
    "- For tree graph, the following should hold:\n",
    "    - $P_i^{\\text{GaBP}} = \\frac{1}{\\left \\{ \\mathbf{A}^{-1} \\right \\}_{ii}}$\n",
    "    - $\\mu_i^{\\text{GaBP}} = \\left \\{ \\mathbf{A}^{-1}\\textbf{b} \\right \\}_i$"
   ],
   "metadata": {
    "collapsed": false,
    "pycharm": {
     "name": "#%% md\n"
    }
   }
  },
  {
   "cell_type": "code",
   "execution_count": 13,
   "outputs": [
    {
     "name": "stdout",
     "output_type": "stream",
     "text": [
      "\n",
      "#################################################################\n",
      "#################################################################\n",
      "\n",
      "                       Calculate Marginals                       \n",
      "\n",
      "#################################################################\n",
      "#################################################################\n",
      "\n",
      "Node 0:\n",
      "‾‾‾‾‾‾‾\n",
      "     μ:   Exact      : -1.4456070827692173\n",
      "          Calculated : -1.4456070827692171\n",
      "     P:   Exact      : 0.19466464713768308\n",
      "          Calculated : 0.19466464713768308\n",
      "Node 1:\n",
      "‾‾‾‾‾‾‾\n",
      "     μ:   Exact      : 2.277306669191836\n",
      "          Calculated : 2.277306669191836\n",
      "     P:   Exact      : -0.329510277043624\n",
      "          Calculated : -0.32951027704362396\n",
      "Node 2:\n",
      "‾‾‾‾‾‾‾\n",
      "     μ:   Exact      : -2.208760910344183\n",
      "          Calculated : -2.2087609103441803\n",
      "     P:   Exact      : -0.3940312030964156\n",
      "          Calculated : -0.3940312030964156\n",
      "Node 3:\n",
      "‾‾‾‾‾‾‾\n",
      "     μ:   Exact      : 2.9648805808558083\n",
      "          Calculated : 2.964880580855808\n",
      "     P:   Exact      : 0.043053011272387316\n",
      "          Calculated : 0.043053011272387316\n"
     ]
    }
   ],
   "source": [
    "print_deader('Calculate Marginals')\n",
    "\n",
    "for i in graph.nodes:\n",
    "    marginal_mean, marginal_precision = calc_node_marginal(graph, i)\n",
    "\n",
    "    print(f'Node {i}:\\n‾‾‾‾‾‾‾')\n",
    "    print(' '*4, f'μ:   Exact      : {exact_mu[i][0]}')\n",
    "    print(' '*4, f'     Calculated : {marginal_mean}')\n",
    "    print(' '*4, f'P:   Exact      : {1 / exact_sigma[i][i]}')\n",
    "    print(' '*4, f'     Calculated : {marginal_precision}')"
   ],
   "metadata": {
    "collapsed": false,
    "pycharm": {
     "name": "#%%\n"
    }
   }
  }
 ],
 "metadata": {
  "kernelspec": {
   "display_name": "Python 3",
   "language": "python",
   "name": "python3"
  },
  "language_info": {
   "codemirror_mode": {
    "name": "ipython",
    "version": 2
   },
   "file_extension": ".py",
   "mimetype": "text/x-python",
   "name": "python",
   "nbconvert_exporter": "python",
   "pygments_lexer": "ipython2",
   "version": "2.7.6"
  }
 },
 "nbformat": 4,
 "nbformat_minor": 0
}